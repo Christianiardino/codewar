{
 "cells": [
  {
   "cell_type": "code",
   "execution_count": 10,
   "metadata": {},
   "outputs": [
    {
     "data": {
      "text/plain": [
       "['ab', 'c_']"
      ]
     },
     "execution_count": 10,
     "metadata": {},
     "output_type": "execute_result"
    }
   ],
   "source": [
    "def solution(s):\n",
    "    lenStr = len(s)\n",
    "    if lenStr % 2 == 0:\n",
    "        return [s[i:i+2] for i in range(0, lenStr, 2)]\n",
    "    else:\n",
    "        temp = [s[i:i+2] for i in range(0, lenStr, 2)]\n",
    "        temp[-1] = temp[-1] + \"_\"\n",
    "        return temp\n",
    "\n",
    "solution(\"abc\")"
   ]
  }
 ],
 "metadata": {
  "kernelspec": {
   "display_name": "Python 3",
   "language": "python",
   "name": "python3"
  },
  "language_info": {
   "codemirror_mode": {
    "name": "ipython",
    "version": 3
   },
   "file_extension": ".py",
   "mimetype": "text/x-python",
   "name": "python",
   "nbconvert_exporter": "python",
   "pygments_lexer": "ipython3",
   "version": "3.12.6"
  }
 },
 "nbformat": 4,
 "nbformat_minor": 2
}
