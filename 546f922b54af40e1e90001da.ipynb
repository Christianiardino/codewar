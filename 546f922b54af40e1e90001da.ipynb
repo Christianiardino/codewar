{
 "cells": [
  {
   "cell_type": "code",
   "execution_count": 29,
   "metadata": {},
   "outputs": [
    {
     "data": {
      "text/plain": [
       "'0 1 2 3 4 3 5 5 3 5 0 12 5 13 10 0 5 10'"
      ]
     },
     "execution_count": 29,
     "metadata": {},
     "output_type": "execute_result"
    }
   ],
   "source": [
    "def alphabet_position(text):\n",
    "    return \"\".join([str(ord(k)-96) + \" \" for k in text.replace(\" \", \"\").lower() if k.isalnum()])[0:-1]\n",
    "\n",
    "\n",
    "alphabet_position(\"abc ><><<<><><>>><><><>>><><>dedf  fd fam,fnkafk \")"
   ]
  }
 ],
 "metadata": {
  "kernelspec": {
   "display_name": "Python 3",
   "language": "python",
   "name": "python3"
  },
  "language_info": {
   "codemirror_mode": {
    "name": "ipython",
    "version": 3
   },
   "file_extension": ".py",
   "mimetype": "text/x-python",
   "name": "python",
   "nbconvert_exporter": "python",
   "pygments_lexer": "ipython3",
   "version": "3.12.6"
  }
 },
 "nbformat": 4,
 "nbformat_minor": 2
}
