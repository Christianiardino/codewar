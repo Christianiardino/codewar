{
 "cells": [
  {
   "cell_type": "code",
   "execution_count": 37,
   "metadata": {},
   "outputs": [
    {
     "data": {
      "text/plain": [
       "'1'"
      ]
     },
     "execution_count": 37,
     "metadata": {},
     "output_type": "execute_result"
    }
   ],
   "source": [
    "def increment_string(strng):\n",
    "    if strng == \"\":\n",
    "        return \"1\"\n",
    "    if strng[-1].isdigit():\n",
    "        digit_str = \"\"\n",
    "        for k in range(len(strng)-1, 0, -1):\n",
    "            if strng[k].isdigit():\n",
    "                digit_str = strng[k] + digit_str\n",
    "                print(digit_str)\n",
    "            else:\n",
    "                break\n",
    "        try:\n",
    "            digit_int = int(digit_str)+1\n",
    "        except:\n",
    "            digit_int = 2\n",
    "        if len(digit_str) == len(str(digit_int)):\n",
    "            return (strng[:-len(digit_str)] + str(digit_int))\n",
    "        else:\n",
    "            digit_append = \"0\"*(len(digit_str)-len(str(digit_int))) + str(digit_int)\n",
    "            return (strng[:-len(digit_str)] + digit_append)\n",
    "    else:\n",
    "        return (strng + \"1\")\n",
    "    \n",
    "increment_string(\"\")"
   ]
  }
 ],
 "metadata": {
  "kernelspec": {
   "display_name": "Python 3",
   "language": "python",
   "name": "python3"
  },
  "language_info": {
   "codemirror_mode": {
    "name": "ipython",
    "version": 3
   },
   "file_extension": ".py",
   "mimetype": "text/x-python",
   "name": "python",
   "nbconvert_exporter": "python",
   "pygments_lexer": "ipython3",
   "version": "3.12.6"
  }
 },
 "nbformat": 4,
 "nbformat_minor": 2
}
